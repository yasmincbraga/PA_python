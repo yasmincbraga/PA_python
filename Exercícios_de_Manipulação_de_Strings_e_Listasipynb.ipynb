{
  "nbformat": 4,
  "nbformat_minor": 0,
  "metadata": {
    "colab": {
      "provenance": [],
      "authorship_tag": "ABX9TyNvOJ5wO6TlqczXN+lherHz",
      "include_colab_link": true
    },
    "kernelspec": {
      "name": "python3",
      "display_name": "Python 3"
    },
    "language_info": {
      "name": "python"
    }
  },
  "cells": [
    {
      "cell_type": "markdown",
      "metadata": {
        "id": "view-in-github",
        "colab_type": "text"
      },
      "source": [
        "<a href=\"https://colab.research.google.com/github/yasmincbraga/PA_python/blob/main/Exerc%C3%ADcios_de_Manipula%C3%A7%C3%A3o_de_Strings_e_Listasipynb.ipynb\" target=\"_parent\"><img src=\"https://colab.research.google.com/assets/colab-badge.svg\" alt=\"Open In Colab\"/></a>"
      ]
    },
    {
      "cell_type": "markdown",
      "source": [
        "##Exercícios de Manipulação de Strings e Listas\n"
      ],
      "metadata": {
        "id": "-M3pHtyj0AN_"
      }
    },
    {
      "cell_type": "markdown",
      "source": [
        "#Conteúdo Manipulação de Strings"
      ],
      "metadata": {
        "id": "jXA_Uqrp0U8o"
      }
    },
    {
      "cell_type": "code",
      "execution_count": null,
      "metadata": {
        "id": "PkoBk2PVz_K0"
      },
      "outputs": [],
      "source": [
        "# 1 - Use o método len para imprimir o comprimento da string.\n",
        "x = \"Hello World\"\n",
        "print( len(x)  )"
      ]
    },
    {
      "cell_type": "code",
      "source": [
        "# 2 - Obtenha o primeiro caractere da string txt.\n",
        "txt = \"Hello World\"\n",
        "x = txt[0]\n",
        "txt[0]\n"
      ],
      "metadata": {
        "id": "BjZnvjoD0gbi"
      },
      "execution_count": null,
      "outputs": []
    },
    {
      "cell_type": "code",
      "source": [
        "# 3 - Obtenha os caracteres do índice 2 ao índice 4 ( llo).\n",
        "txt = \"Hello World\"\n",
        "x = txt[2:5]\n",
        "x"
      ],
      "metadata": {
        "id": "OTdFPILl0kzK"
      },
      "execution_count": null,
      "outputs": []
    },
    {
      "cell_type": "code",
      "source": [
        "# 4 - Converta o valor de txt para maiúsculas.\n",
        "txt = \"Hello World\"\n",
        "txt.upper()"
      ],
      "metadata": {
        "id": "R30G9sW_0nHa"
      },
      "execution_count": null,
      "outputs": []
    },
    {
      "cell_type": "code",
      "source": [
        "# 5 - Conte quantas vezes aparece a palavra \"de\" na string abaixo\n",
        "txt = \"Eu gosto de vijar, de estudar estudar, de estudar Pyhon\"\n",
        "txt.count(\"de\")"
      ],
      "metadata": {
        "id": "rJSLlKtR0n2h"
      },
      "execution_count": null,
      "outputs": []
    },
    {
      "cell_type": "code",
      "source": [
        "# 6 - Separe a frase abaixo toda vez que encontrar um vírgula\n",
        "txt = \"Eu gosto de vijar, tomar vinho, de estudar estudar programação, de estudar Pyhon\"\n",
        "txt.partition(\",\")"
      ],
      "metadata": {
        "id": "tJDHQ_es0x9b"
      },
      "execution_count": null,
      "outputs": []
    },
    {
      "cell_type": "code",
      "source": [
        "#7 - Peça ao usuário uma frase e substitua todas as ocorrências de espaço por “#”.\n",
        "frase = input(\"Digite uma frase \")\n",
        "frase.replace(\" \",\"#\")\n"
      ],
      "metadata": {
        "id": "jKJD11fJ0zzL"
      },
      "execution_count": null,
      "outputs": []
    },
    {
      "cell_type": "code",
      "source": [
        "# 8 - Faça um programa que retorne True se duas strings lidas do teclado são palíndromas mútuas, ou seja, se uma é igual à outra quando lida de traz para frente ou False, se não forem.\n",
        "# Por exemplo: amor e roma\n",
        "\n",
        "palavra1 = input(\"Digite uma palavra: \")\n",
        "palavranv = palavra1[::-1]\n",
        "palavra2 = input(\"Digite uma palavra que seja igual de trás para frente: \")\n",
        "palavra2nv = palavra2[::-1]\n",
        "if palavra2 == palavra1:\n",
        "  print(\"true\")\n",
        "elif palavra1 == palavranv:\n",
        "  print(\"Palavra 1 é palindroma com ela mesma\")\n",
        "elif palavra2 == palavra2nv:\n",
        "  print(\"Palavra 2 é palindroma com ela mesma\")\n",
        "else:\n",
        "  print(\"false\")\n"
      ],
      "metadata": {
        "id": "bTkXycG5012U"
      },
      "execution_count": null,
      "outputs": []
    },
    {
      "cell_type": "code",
      "source": [
        "# 9- Faça um programa que leia o nome do usuário e mostre o nome de traz para frente, utilizando somente letras maiúsculas.\n",
        "nome = input(\"Digite o seu nome: \")\n",
        "nome = nome.upper()\n",
        "nome = nome[::-1]\n",
        "nome"
      ],
      "metadata": {
        "id": "NhwDqIwZ03_F"
      },
      "execution_count": null,
      "outputs": []
    },
    {
      "cell_type": "markdown",
      "source": [
        "##PA Listas Tuplas Dicionarios ALUNOS"
      ],
      "metadata": {
        "id": "bansUPQL041l"
      }
    },
    {
      "cell_type": "markdown",
      "source": [
        "# **Exercícios**\n",
        "##Exercício 1: Manipulação de Listas\n",
        "\n",
        "- Defina uma lista com 5 nomes de cidades.\n",
        "- Adicione uma nova cidade ao final da lista.\n",
        "- Remova a segunda cidade da lista.\n",
        "- Imprima a lista resultante"
      ],
      "metadata": {
        "id": "89clo5Tp1mFy"
      }
    },
    {
      "cell_type": "code",
      "source": [
        "# seu código aqui...\n",
        "licidades = [\"Ribeirão Pires\", \"São Bernardo\", \"São Caetano\", \"Maua\", \"Suzano\", \"Santo Ándre\"]\n",
        "licidades"
      ],
      "metadata": {
        "id": "fSc0jhou1D1G"
      },
      "execution_count": null,
      "outputs": []
    },
    {
      "cell_type": "code",
      "source": [
        "licidades.append(\"Sorocaba\")\n",
        "licidades"
      ],
      "metadata": {
        "id": "Q6Vh0JiQ1eGh"
      },
      "execution_count": null,
      "outputs": []
    },
    {
      "cell_type": "code",
      "source": [
        "licidades.remove(\"São Bernardo\")\n",
        "print(licidades)"
      ],
      "metadata": {
        "id": "R1F_9j6A1gNJ"
      },
      "execution_count": null,
      "outputs": []
    },
    {
      "cell_type": "markdown",
      "source": [
        "##Exercício 2: Operações com Tuplas\n",
        "\n",
        "- Defina uma tupla com 4 cores.\n",
        "- Crie uma nova tupla que seja a concatenação da tupla original com outra contendo mais 2 cores.\n",
        "- Imprima a nova tupla."
      ],
      "metadata": {
        "id": "9FYkK6td1r_c"
      }
    },
    {
      "cell_type": "code",
      "source": [
        "# seu código aqui...\n",
        "t1 = (\"Vermelho\", \"Roxo\", \"Marrom\", \"Branco\")"
      ],
      "metadata": {
        "id": "MB0YvFXc1svC"
      },
      "execution_count": null,
      "outputs": []
    },
    {
      "cell_type": "code",
      "source": [
        "novas_cores = t1 + (\"amarelo\", \"Rosa\")\n",
        "print(novas_cores)"
      ],
      "metadata": {
        "id": "2J6DOPet1uk6"
      },
      "execution_count": null,
      "outputs": []
    },
    {
      "cell_type": "markdown",
      "source": [
        "##Exercício 3: Dicionários Simples\n",
        "\n",
        "Crie um dicionário para representar um aluno, contendo \"nome\", \"idade\" e \"curso\".\n",
        "- Atualize a idade do aluno.\n",
        "- Adicione uma nova chave \"nota\" com um valor.\n",
        "- Imprima o dicionário atualizado"
      ],
      "metadata": {
        "id": "OuQdICrJ1wW8"
      }
    },
    {
      "cell_type": "code",
      "source": [
        "# seu código aqui...\n",
        "aluno = {\n",
        "    \"nome\": \"Yasmin\",\n",
        "    \"idade\": \"14\",\n",
        "    \"curso\": \"T.I\"\n",
        "}"
      ],
      "metadata": {
        "id": "WpIlVsFx1yoU"
      },
      "execution_count": null,
      "outputs": []
    },
    {
      "cell_type": "code",
      "source": [
        "aluno"
      ],
      "metadata": {
        "id": "Ron4jzZU117U"
      },
      "execution_count": null,
      "outputs": []
    },
    {
      "cell_type": "code",
      "source": [
        "aluno[\"nota\"] = \"10\"\n",
        "print(aluno)"
      ],
      "metadata": {
        "id": "S2XhxdJf139M"
      },
      "execution_count": null,
      "outputs": []
    },
    {
      "cell_type": "markdown",
      "source": [
        "##Exercício 4: Listas e Dicionários\n",
        "\n",
        "- Crie uma lista de dicionários, onde cada dicionário representa um produto com as chaves \"nome\" e \"preço\".\n",
        "- Adicione um novo produto à lista.\n",
        "- Atualize o preço do primeiro produto na lista.\n",
        "- Imprima a lista resultante."
      ],
      "metadata": {
        "id": "pFIT6xGC16PU"
      }
    },
    {
      "cell_type": "code",
      "source": [
        "# seu código aqui...\n",
        "listadic = [\n",
        "    {\"nome\": \"Caderno\", \"preço\": \"69\"},\n",
        "    {\"nome\": \"Camisa\", \"preço\": \"80\"},\n",
        "    {\"nome\": \"Caneta\", \"preço\": \"12\"} ]\n",
        "listadic.append({\"nome\": \"Carrinho\", \"preço\": \"50\"})\n",
        "print(listadic)"
      ],
      "metadata": {
        "id": "7QUZtr8217OO"
      },
      "execution_count": null,
      "outputs": []
    },
    {
      "cell_type": "code",
      "source": [
        "listadic2 = {\"nome\": \"Caderno\", \"preço\": \"25\"}\n",
        "listadic[0].update(listadic2)\n",
        "print(listadic)"
      ],
      "metadata": {
        "id": "jFOz3eHI19z2"
      },
      "execution_count": null,
      "outputs": []
    },
    {
      "cell_type": "markdown",
      "source": [
        "##Exercício 5: Analisando uma Lista de Tuplas\n",
        "\n",
        "- Crie uma lista de tuplas, onde cada tupla contém um par (nome, idade).\n",
        "- Encontre e imprima o nome da pessoa mais velha.\n",
        "- Encontre e imprima a idade média das pessoas."
      ],
      "metadata": {
        "id": "EyBFIrre2BMO"
      }
    },
    {
      "cell_type": "code",
      "source": [
        "# seu código aqui...\n",
        "pessoas = [(\"Yasmin\", 15), (\"Vanessa\", 40), (\"Gabriela\", 7)]\n",
        "max(pessoas)"
      ],
      "metadata": {
        "id": "h_YrxPSI2DuX"
      },
      "execution_count": null,
      "outputs": []
    },
    {
      "cell_type": "code",
      "source": [
        "maisvelha = 0\n",
        "nome_maisvelha = \"\""
      ],
      "metadata": {
        "id": "QTs5B7GD2FXh"
      },
      "execution_count": null,
      "outputs": []
    },
    {
      "cell_type": "code",
      "source": [
        "if pessoas [0][1] > pessoas[1][1]:\n",
        "  maisvelha = pessoas [0][0]\n",
        "  nome_maisvelha = pessoas[0][1]\n",
        "  if pessoas [0][1] > pessoas [2][1]:\n",
        "    maisvelha = pessoas [0][0]\n",
        "    nome_maisvelha = pessoas [0][1]\n",
        "  else:\n",
        "    pessoas [0][1] > pessoas [2][0]\n",
        "    nome_maisvelha = pessoas [2][1]\n",
        "else:\n",
        "  maisvelha = pessoas[1][0]\n",
        "  nome_maisvelha = pessoas [1][1]\n",
        "\n",
        "media = (pessoas[0][1] + pessoas[1][1] + pessoas[2][1])/3\n",
        "print(\"O mais velho é: \", maisvelha)\n",
        "print(\"A média das idades é: \", media)"
      ],
      "metadata": {
        "id": "gyJYK4fb2Ia2"
      },
      "execution_count": null,
      "outputs": []
    }
  ]
}