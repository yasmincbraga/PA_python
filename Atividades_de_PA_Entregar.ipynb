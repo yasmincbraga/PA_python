{
  "nbformat": 4,
  "nbformat_minor": 0,
  "metadata": {
    "colab": {
      "provenance": [],
      "include_colab_link": true
    },
    "kernelspec": {
      "name": "python3",
      "display_name": "Python 3"
    },
    "language_info": {
      "name": "python"
    }
  },
  "cells": [
    {
      "cell_type": "markdown",
      "metadata": {
        "id": "view-in-github",
        "colab_type": "text"
      },
      "source": [
        "<a href=\"https://colab.research.google.com/github/yasmincbraga/PA_python/blob/main/Atividades_de_PA_Entregar.ipynb\" target=\"_parent\"><img src=\"https://colab.research.google.com/assets/colab-badge.svg\" alt=\"Open In Colab\"/></a>"
      ]
    },
    {
      "cell_type": "markdown",
      "source": [
        "# Exercicios juntos Laços,condicionais,listas,tuplas e dicionários"
      ],
      "metadata": {
        "id": "iU2CJOLX41vk"
      }
    },
    {
      "cell_type": "markdown",
      "source": [
        "## Tuplas - Acesso e Desempacotamento\n",
        "\n",
        "1) Crie uma tupla contendo três tipos diferentes de dados: um número, uma string e uma lista. Use um laço de repetição para acessar e imprimir cada item da tupla. Além disso, dentro do laço, acesse e imprima o segundo item da lista que está dentro da tupla."
      ],
      "metadata": {
        "id": "HM91bKpkBqGI"
      }
    },
    {
      "cell_type": "code",
      "source": [
        "dados = (40, \"Vanessa\",[1,2,3])\n",
        "\n",
        "for i in dados:\n",
        "  print(i)"
      ],
      "metadata": {
        "id": "sCbCOqPVYeRv",
        "colab": {
          "base_uri": "https://localhost:8080/"
        },
        "outputId": "d4b4ce72-ecf8-402c-a388-02a239acf80b"
      },
      "execution_count": null,
      "outputs": [
        {
          "output_type": "stream",
          "name": "stdout",
          "text": [
            "40\n",
            "Vanessa\n",
            "[1, 2, 3]\n"
          ]
        }
      ]
    },
    {
      "cell_type": "code",
      "source": [
        "if i == dados[2]:\n",
        "        print(\"Segundo item da lista:\", i[1])"
      ],
      "metadata": {
        "colab": {
          "base_uri": "https://localhost:8080/"
        },
        "id": "F-Ihlmlc9Lo9",
        "outputId": "7747cb5b-cbf4-46ba-e737-ea91177133a4"
      },
      "execution_count": null,
      "outputs": [
        {
          "output_type": "stream",
          "name": "stdout",
          "text": [
            "Segundo item da lista: 2\n"
          ]
        }
      ]
    },
    {
      "cell_type": "markdown",
      "source": [
        "## 2. Dicionários - Criação e Acesso\n",
        "Cadastro de Pessoas e Análise de Alturas\n",
        "2) Solicite ao usuário para inserir o nome e a altura de várias pessoas. Preencha um dicionário com essas informações e depois encontre e imprima o nome e a altura da pessoa mais alta e da mais baixa."
      ],
      "metadata": {
        "id": "6vEHxGtjBxMi"
      }
    },
    {
      "cell_type": "code",
      "source": [
        "alturas = {}\n",
        "\n",
        "while True:\n",
        "  nome = input(\"Digite o nome da pessoa ou sair: \").lower()\n",
        "\n",
        "  if nome == \"sair\":\n",
        "    pessoa_mais_alta = max(alturas, key=alturas.get)\n",
        "    pessoa_mais_baixa = min(alturas, key=alturas.get)\n",
        "\n",
        "    break\n",
        "  altura = float(input(f\"Digite a altura de {nome} \"))\n",
        "  alturas [nome] = altura\n",
        "  print(alturas)\n",
        "\n",
        "print(f\"A pessoa mais alta é : {pessoa_mais_alta}, com altura de : {alturas[pessoa_mais_alta]}\")\n",
        "print(f\"A pessoa mais baixa é: {pessoa_mais_baixa} com altura de : {alturas[pessoa_mais_baixa]}\")"
      ],
      "metadata": {
        "id": "MpJYauvTZR69",
        "colab": {
          "base_uri": "https://localhost:8080/"
        },
        "outputId": "0f682b89-2330-4588-a28e-2579464477f3"
      },
      "execution_count": null,
      "outputs": [
        {
          "output_type": "stream",
          "name": "stdout",
          "text": [
            "Digite o nome da pessoa ou sair: yasmin\n",
            "Digite a altura de yasmin 1.57\n",
            "{'yasmin': 1.57}\n",
            "Digite o nome da pessoa ou sair: gabriela \n",
            "Digite a altura de gabriela  1.40\n",
            "{'yasmin': 1.57, 'gabriela ': 1.4}\n",
            "Digite o nome da pessoa ou sair: talvanes\n",
            "Digite a altura de talvanes 1.70\n",
            "{'yasmin': 1.57, 'gabriela ': 1.4, 'talvanes': 1.7}\n",
            "Digite o nome da pessoa ou sair: sair\n",
            "A pessoa mais alta é : talvanes, com altura de : 1.7\n",
            "A pessoa mais baixa é: gabriela  com altura de : 1.4\n"
          ]
        }
      ]
    },
    {
      "cell_type": "markdown",
      "source": [
        "## Lista, laços e Condicionais\n",
        "3) Descrição: Crie uma listacom cinco números inteiros. Use um laço de repetição e uma condicional para imprimir apenas os números que são múltiplos de 3."
      ],
      "metadata": {
        "id": "FytD4QZyELAt"
      }
    },
    {
      "cell_type": "code",
      "source": [
        "for i in range(5):\n",
        "  if i % 3 == 0:\n",
        "    print(i, \"É um numero é multiplo de 3\")"
      ],
      "metadata": {
        "id": "7hBJ2lgnelnu",
        "colab": {
          "base_uri": "https://localhost:8080/"
        },
        "outputId": "0a69adec-a519-49df-b5a2-43d574f31e46"
      },
      "execution_count": null,
      "outputs": [
        {
          "output_type": "stream",
          "name": "stdout",
          "text": [
            "0 É um numero é multiplo de 3\n",
            "3 É um numero é multiplo de 3\n"
          ]
        }
      ]
    },
    {
      "cell_type": "markdown",
      "source": [
        "## Manipulação de Strings e Condicionais\n",
        "4) Descrição: Crie uma string com uma frase. Use uma condicional para verificar se a frase contém a palavra \"Python\". Se sim, substitua a palavra \"Python\" por \"programação\" e imprima a nova frase."
      ],
      "metadata": {
        "id": "hwn3Fz8aEYSH"
      }
    },
    {
      "cell_type": "code",
      "source": [
        "frase = input(\"Digite uma frase que esteja relacionada com programação: \").lower()\n",
        "if \"python\" in frase:\n",
        "  frase = frase.replace(\"python\", \"programação\")\n",
        "  print(f\"sua frase corrigida é: {frase}\")\n",
        "else:\n",
        "  print(frase)"
      ],
      "metadata": {
        "id": "fkXDlQ-NoaDk",
        "colab": {
          "base_uri": "https://localhost:8080/"
        },
        "outputId": "0759283a-ea2d-44d9-ce42-9f0d36f14c3e"
      },
      "execution_count": null,
      "outputs": [
        {
          "output_type": "stream",
          "name": "stdout",
          "text": [
            "Digite uma frase que esteja relacionada com programação: tenho problemas com python\n",
            "sua frase corrigida é: tenho problemas com programação\n"
          ]
        }
      ]
    },
    {
      "cell_type": "markdown",
      "source": [
        "## Simulação de Alfândega com Cadastro Dinâmico de Itens usando dicionário\n",
        "5) Simule uma situação de alfândega onde o funcionário cadastra itens novos encontrados na mala de uma pessoa que veio de uma viagem internacional. Após o cadastro de todos os itens, o programa imprime uma nota com todos os itens e seus preços, calcula o valor total e, se o valor total ultrapassar 500 dólares, calcula o valor de 60% a ser pago."
      ],
      "metadata": {
        "id": "hPP-JNTxEwFT"
      }
    },
    {
      "cell_type": "code",
      "source": [
        "itens = {}\n",
        "\n",
        "while True:\n",
        "  produtos = input(\"digite o nome do produto ou sair: \").lower()\n",
        "  if produtos == \"sair\":\n",
        "    break\n",
        "  preço = float(input(\"digite o valor de seu[] produto: \"))\n",
        "  itens[produtos] = preço\n",
        "print(itens)\n",
        "total = sum(itens.values())\n",
        "print(f\"o valor total dos produtos foi de {total}\")\n",
        "if total > 500:\n",
        "  total = (total*0.6)+total\n",
        "print(\"O valor a ser pago será: \",total)"
      ],
      "metadata": {
        "id": "GLbfs6Q6owCX",
        "colab": {
          "base_uri": "https://localhost:8080/"
        },
        "outputId": "40b83b2c-49a5-44c1-cbb8-955e96c71e5e"
      },
      "execution_count": null,
      "outputs": [
        {
          "output_type": "stream",
          "name": "stdout",
          "text": [
            "digite o nome do produto ou sair: Controle \n",
            "digite o valor de seu produto: 50\n",
            "digite o nome do produto ou sair: TV\n",
            "digite o valor de seu produto: 1500\n",
            "digite o nome do produto ou sair: Cadeira\n",
            "digite o valor de seu produto: 200\n",
            "digite o nome do produto ou sair: sair\n",
            "{'controle ': 50.0, 'tv': 1500.0, 'cadeira': 200.0}\n",
            "o valor total dos produtos foi de 1750.0\n",
            "O valor a ser pago será:  2800.0\n"
          ]
        }
      ]
    },
    {
      "cell_type": "markdown",
      "source": [
        "##  Identificação de Palavras Negativas em um Texto\n",
        "6) Você vai criar um programa em Python para analisar um texto e identificar palavras que expressam pensamentos negativos. Para isso, você usará uma lista de palavras negativas fornecida e verificará quais dessas palavras estão presentes no texto fornecido pelo usuário. Exemplo de palavras negtivas, acrescente mais na lista: # Lista de palavras negativas palavras_negativas = ['triste', 'deprimido', 'ansioso', 'desapontado', 'frustrado']"
      ],
      "metadata": {
        "id": "OH8D047zVsp-"
      }
    },
    {
      "cell_type": "code",
      "source": [
        "palavras_negativas = [\"trite\",\"deprimido\",\"ansioso\",\"desapontado\",\"frustado\"]\n",
        "frase = input(\"Digite uma frase: \").lower()\n",
        "tem_palavras_negativas = False\n",
        "\n",
        "for palavra in palavras_negativas:\n",
        "  if palavra in frase:\n",
        "    tem_palavras_negativas = True\n",
        "    break\n",
        "if tem_palavras_negativas:\n",
        "  print(\"Na sua frase a palavras negativas como:\", palavras_negativas)\n",
        "else:\n",
        "  print(\"Na sua frase não há nenhuma palavra negativa\")"
      ],
      "metadata": {
        "id": "xDSrYWf_Vr8G",
        "colab": {
          "base_uri": "https://localhost:8080/"
        },
        "outputId": "ae1b035b-1995-4470-8dd0-46e648516dba"
      },
      "execution_count": null,
      "outputs": [
        {
          "output_type": "stream",
          "name": "stdout",
          "text": [
            "Digite uma frase: Estou frustado\n",
            "Na sua frase a palavras negativas como: ['trite', 'deprimido', 'ansioso', 'desapontado', 'frustado']\n"
          ]
        }
      ]
    },
    {
      "cell_type": "markdown",
      "source": [
        "# Lista de laços"
      ],
      "metadata": {
        "id": "qdCUmhOfqSh1"
      }
    },
    {
      "cell_type": "markdown",
      "source": [
        "## 1) Soma dos números de uma lista\n",
        "\n",
        "Dada a lista numeros = [3, 7, 2, 8, 10], use um for para calcular a soma de todos os elementos."
      ],
      "metadata": {
        "id": "ZZZicFxfkEEg"
      }
    },
    {
      "cell_type": "code",
      "source": [
        "lista=[3,7,2,8,10]\n",
        "soma = 0\n",
        "\n",
        "for i in lista:\n",
        "  soma += i\n",
        "print(\"soma dos números =\", soma)"
      ],
      "metadata": {
        "id": "PZqfdWwSsj5L",
        "colab": {
          "base_uri": "https://localhost:8080/"
        },
        "outputId": "662e8751-b778-42b5-82e8-7bcd6d8efb4c"
      },
      "execution_count": null,
      "outputs": [
        {
          "output_type": "stream",
          "name": "stdout",
          "text": [
            "soma dos números = 30\n"
          ]
        }
      ]
    },
    {
      "cell_type": "markdown",
      "source": [
        "## 2) Contagem de vogais em uma string\n",
        "\n",
        "Peça uma palavra ao usuário e use um for para contar quantas vogais (a, e, i, o, u) existem."
      ],
      "metadata": {
        "id": "Xw8gph7LkL6R"
      }
    },
    {
      "cell_type": "code",
      "source": [
        "palavra = input(\"Digite uma palavra: \")\n",
        "contar = 0\n",
        "vogais = \"a,e,i,o,u\"\n",
        "\n",
        "for i in palavra:\n",
        "  if i in vogais:\n",
        "    contar += 1\n",
        "print(\"Está palavra tem\",contar,\"vogais\")"
      ],
      "metadata": {
        "id": "cWOiko4Nskaa",
        "colab": {
          "base_uri": "https://localhost:8080/"
        },
        "outputId": "304ef87a-81eb-4e5c-8dd7-e0729875d488"
      },
      "execution_count": null,
      "outputs": [
        {
          "output_type": "stream",
          "name": "stdout",
          "text": [
            "Digite uma palavra: Microondas\n",
            "Está palavra tem 4 vogais\n"
          ]
        }
      ]
    },
    {
      "cell_type": "markdown",
      "source": [
        "## 3) Inverter lista usando while\n",
        "\n",
        "Dada a lista nomes = [\"Ana\", \"João\", \"Carlos\", \"Maria\"], use um while para inverter a ordem dos elementos (sem usar reverse() ou slicing)."
      ],
      "metadata": {
        "id": "YfW4Aw8ckZw-"
      }
    },
    {
      "cell_type": "code",
      "source": [
        "lista = [\"Ana\", \"João\", \"Carlos\", \"Maria\"]\n",
        "inver =[]\n",
        "\n",
        "while len(lista) > 0:\n",
        "  ultimo = lista.pop() #remove e pega o último elemento\n",
        "  inver.append(ultimo)\n",
        "\n",
        "print(\"Lista invertida fica:\",inver)"
      ],
      "metadata": {
        "id": "1qoMdCpuslYK",
        "colab": {
          "base_uri": "https://localhost:8080/"
        },
        "outputId": "3aaac8ac-6e6a-4de2-8cc7-f62a664c8d70"
      },
      "execution_count": null,
      "outputs": [
        {
          "output_type": "stream",
          "name": "stdout",
          "text": [
            "Lista invertida fica: ['Maria', 'Carlos', 'João', 'Ana']\n"
          ]
        }
      ]
    },
    {
      "cell_type": "markdown",
      "source": [
        "## 4) Maior número em uma lista\n",
        "\n",
        "Escreva um programa que percorra uma lista de inteiros e encontre o maior valor."
      ],
      "metadata": {
        "id": "cvRuv0PxkkYi"
      }
    },
    {
      "cell_type": "code",
      "source": [
        "numero = [8,12,3,1,15,7,9,4,6,22,50]\n",
        "print(\"O maior valor é:\",max(numero))"
      ],
      "metadata": {
        "id": "N1sCAL_5sl9C",
        "colab": {
          "base_uri": "https://localhost:8080/"
        },
        "outputId": "537d16e2-684c-4395-9813-a65220f6c73a"
      },
      "execution_count": null,
      "outputs": [
        {
          "output_type": "stream",
          "name": "stdout",
          "text": [
            "O maior valor é: 50\n"
          ]
        }
      ]
    },
    {
      "cell_type": "markdown",
      "source": [
        "## 5) Remover elementos repetidos de uma lista\n",
        "\n",
        "Usando um for, percorra a lista valores = [1, 2, 2, 3, 4, 4, 5] e crie uma nova lista apenas com elementos únicos."
      ],
      "metadata": {
        "id": "xV6pmOVCkuCm"
      }
    },
    {
      "cell_type": "code",
      "source": [
        "valor = [1, 2, 2, 3, 4, 4, 5]\n",
        "unicos = []\n",
        "\n",
        "for v in valor:\n",
        "  if v not in unicos:\n",
        "    unicos.append(v)\n",
        "\n",
        "print(\"Lista sem elentos repetidos fica:\", unicos)"
      ],
      "metadata": {
        "id": "UgBt5Ehgsm6R",
        "colab": {
          "base_uri": "https://localhost:8080/"
        },
        "outputId": "4cd27a40-b46f-4ff5-c605-f35c70bef55f"
      },
      "execution_count": null,
      "outputs": [
        {
          "output_type": "stream",
          "name": "stdout",
          "text": [
            "Lista sem elentos repetidos fica: [1, 2, 3, 4, 5]\n"
          ]
        }
      ]
    },
    {
      "cell_type": "markdown",
      "source": [
        "## 6) Verificar se palavra é palíndromo\n",
        "\n",
        "Peça uma palavra ao usuário e use while ou for para verificar se ela é igual de frente para trás (ex.: \"arara\")."
      ],
      "metadata": {
        "id": "_bHj-pkzk2TX"
      }
    },
    {
      "cell_type": "code",
      "source": [
        "palavra = input(\"Digite uma palavra: \")\n",
        "\n",
        "palindromo = True\n",
        "tam = len(palavra)\n",
        "for i in range( tam // 2):\n",
        "  if palavra[i] != palavra[tam - 1 - i]:\n",
        "    palindromo = False\n",
        "    break\n",
        "if palindromo :\n",
        "  print(\"Essa palavra é um palíndromo\")\n",
        "else:\n",
        "  print(\"Esaa palavra não é um palíndromo\")"
      ],
      "metadata": {
        "id": "dMdAIFgJsnPC",
        "colab": {
          "base_uri": "https://localhost:8080/"
        },
        "outputId": "ac749ad2-daa1-4c46-b008-1b8607486ae1"
      },
      "execution_count": null,
      "outputs": [
        {
          "output_type": "stream",
          "name": "stdout",
          "text": [
            "Digite uma palavra: arara\n",
            "Essa palavra é um palíndromo\n"
          ]
        }
      ]
    },
    {
      "cell_type": "markdown",
      "source": [
        "## 7 Contagem regressiva com while\n",
        "\n",
        "Peça ao usuário um número e faça uma contagem regressiva até 0."
      ],
      "metadata": {
        "id": "1PeOPJ3ClC0c"
      }
    },
    {
      "cell_type": "code",
      "source": [
        "numb = int(input(\"Digite um número: \"))\n",
        "while numb >=0:\n",
        "  print(numb)\n",
        "  numb -= 1\n",
        "print(\"A contagem acaba aqui\")"
      ],
      "metadata": {
        "id": "xS15z2icsnoq",
        "colab": {
          "base_uri": "https://localhost:8080/"
        },
        "outputId": "7ef6e4f9-09c3-40ba-9e16-4d08626cf53e"
      },
      "execution_count": null,
      "outputs": [
        {
          "output_type": "stream",
          "name": "stdout",
          "text": [
            "Digite um número: 10\n",
            "10\n",
            "9\n",
            "8\n",
            "7\n",
            "6\n",
            "5\n",
            "4\n",
            "3\n",
            "2\n",
            "1\n",
            "0\n",
            "A contagem acaba aqui\n"
          ]
        }
      ]
    },
    {
      "cell_type": "markdown",
      "source": [
        "## 8) Percorrendo um dicionário de notas\n",
        "\n",
        "Dado o dicionário notas = {\"Ana\": 8, \"Carlos\": 7, \"Maria\": 10}, use um for para exibir cada aluno com sua nota."
      ],
      "metadata": {
        "id": "wKkDTzwelK_f"
      }
    },
    {
      "cell_type": "code",
      "source": [
        "notas = {\"Ana\": 8, \"Carlos\": 7, \"Maria\": 10}\n",
        "for aluno,nota in notas.items():\n",
        "  print(aluno,\"tem nota\", nota )"
      ],
      "metadata": {
        "id": "O9uCmeMtsoDa",
        "colab": {
          "base_uri": "https://localhost:8080/"
        },
        "outputId": "23f85880-4471-4b08-e1c6-a6ca6dee1a40"
      },
      "execution_count": null,
      "outputs": [
        {
          "output_type": "stream",
          "name": "stdout",
          "text": [
            "Ana tem nota 8\n",
            "Carlos tem nota 7\n",
            "Maria tem nota 10\n"
          ]
        }
      ]
    },
    {
      "cell_type": "markdown",
      "source": [
        "## 9)Filtrar números pares de uma lista\n",
        "\n",
        "Dada a lista numeros = [10, 21, 32, 43, 54], use um for para criar uma nova lista contendo apenas os pares."
      ],
      "metadata": {
        "id": "xrXKbCl7lUQg"
      }
    },
    {
      "cell_type": "code",
      "source": [
        "numeros = [10, 21, 32, 43, 54]\n",
        "par = []\n",
        "for i in numeros:\n",
        "  if i %2 == 0: #verifica se o número é par\n",
        "    par.append(i)\n",
        "\n",
        "print(\"Os números pares são:\",par)"
      ],
      "metadata": {
        "id": "v1-losiGspHb",
        "colab": {
          "base_uri": "https://localhost:8080/"
        },
        "outputId": "8b45bf6e-c206-40cc-d8df-30c0e3487d8a"
      },
      "execution_count": null,
      "outputs": [
        {
          "output_type": "stream",
          "name": "stdout",
          "text": [
            "Os números pares são: [10, 32, 54]\n"
          ]
        }
      ]
    },
    {
      "cell_type": "markdown",
      "source": [
        "## 10) Contador de palavras em uma frase\n",
        "\n",
        "Peça ao usuário uma frase, divida em palavras (split()) e use um dicionário para contar quantas vezes cada palavra aparece."
      ],
      "metadata": {
        "id": "9pzoi0GxlcO8"
      }
    },
    {
      "cell_type": "code",
      "source": [
        "frase = input(\"Digite uma frase: \")\n",
        "palavra = frase.split()\n",
        "contar = {}\n",
        "\n",
        "for i in palavra:\n",
        "  if i in contar:\n",
        "    contar[i] +=1\n",
        "  else:\n",
        "    contar[i] = 1\n",
        "print(\"Contagem de palavras: \",contar)"
      ],
      "metadata": {
        "id": "gF00XS8kspWi",
        "colab": {
          "base_uri": "https://localhost:8080/"
        },
        "outputId": "79bee9ae-061f-4b08-a58f-2e96cab9aeb6"
      },
      "execution_count": null,
      "outputs": [
        {
          "output_type": "stream",
          "name": "stdout",
          "text": [
            "Digite uma frase: Que dia bonito\n",
            "Contagem de palavras:  {'Que': 1, 'dia': 1, 'bonito': 1}\n"
          ]
        }
      ]
    },
    {
      "cell_type": "markdown",
      "source": [
        "# Laços de Repetição"
      ],
      "metadata": {
        "id": "qGhouSMl4dZZ"
      }
    },
    {
      "cell_type": "markdown",
      "source": [
        "## 1) MOSTRAR TODOS OS NÚMEROS ÍMPARES DE 1 A 30"
      ],
      "metadata": {
        "id": "sEtyg-9nUewi"
      }
    },
    {
      "cell_type": "code",
      "source": [
        "for i in range(1,31,2):\n",
        "    print(i,\"é impar\")\n"
      ],
      "metadata": {
        "id": "SXcyd9Knp_xc",
        "colab": {
          "base_uri": "https://localhost:8080/"
        },
        "outputId": "87619ff9-8003-4934-c808-3d2538146131"
      },
      "execution_count": null,
      "outputs": [
        {
          "output_type": "stream",
          "name": "stdout",
          "text": [
            "1 é impar\n",
            "3 é impar\n",
            "5 é impar\n",
            "7 é impar\n",
            "9 é impar\n",
            "11 é impar\n",
            "13 é impar\n",
            "15 é impar\n",
            "17 é impar\n",
            "19 é impar\n",
            "21 é impar\n",
            "23 é impar\n",
            "25 é impar\n",
            "27 é impar\n",
            "29 é impar\n"
          ]
        }
      ]
    },
    {
      "cell_type": "markdown",
      "source": [
        "## 2) Escreva um algoritmo que leia 20 valores inteiros e ao\n",
        "final exiba:\n",
        "\n",
        "\n",
        " a) a soma dos números positivos;\n",
        "\n",
        "\n",
        " b) a quantidade de valores negativos.\n"
      ],
      "metadata": {
        "id": "QvNMMk28UdKL"
      }
    },
    {
      "cell_type": "code",
      "source": [
        "numeros = []\n",
        "soma = 0\n",
        "nulo = 0\n",
        "negativo = 0\n",
        "\n",
        "for i in range(1,5):\n",
        "  valor = int(input(\"Digite um valor: \"))\n",
        "  numeros.append(valor)\n",
        "  if valor >0:\n",
        "    soma = soma + valor\n",
        "  elif valor == 0:\n",
        "    nulo = nulo+1\n",
        "  else:\n",
        "    negativo = negativo+1\n",
        "print(\"lista dos números digitados\", numeros)\n",
        "print(\"soma dos números positivos\", soma)\n",
        "print(\"Contagem dos números nulos\", nulo)\n",
        "print(\"lista dos números negativos\", negativo)"
      ],
      "metadata": {
        "colab": {
          "base_uri": "https://localhost:8080/"
        },
        "id": "p_Hz8vEgJPJI",
        "outputId": "2186a60c-85e9-4ce3-d9b1-3effb8283d77"
      },
      "execution_count": null,
      "outputs": [
        {
          "output_type": "stream",
          "name": "stdout",
          "text": [
            "Digite um valor: 5\n",
            "Digite um valor: 0\n",
            "Digite um valor: 10\n",
            "Digite um valor: 15\n",
            "lista dos números digitados [5, 0, 10, 15]\n",
            "soma dos números positivos 30\n",
            "Contagem dos números nulos 1\n",
            "lista dos números negativos 0\n"
          ]
        }
      ]
    },
    {
      "cell_type": "markdown",
      "source": [
        "\n",
        "## 2) CONTADOR DE UM NÚMERO INCIAL E UM NÚMERO FINAL\n",
        "\n",
        "DIGITADOS PELO USUÁRIO"
      ],
      "metadata": {
        "id": "FXiiKHFqUmHL"
      }
    },
    {
      "cell_type": "code",
      "source": [
        "num_inicial = int(input(\"digite o numero inicial: \"))\n",
        "num_final = int(input(\"digite o numero final: \"))\n",
        "minimo = min(num_inicial, num_final)\n",
        "maximo = max(num_inicial, num_final)\n",
        "for i in range(minimo, maximo+1):\n",
        "  print(i)"
      ],
      "metadata": {
        "id": "35srzzvQqAw0",
        "colab": {
          "base_uri": "https://localhost:8080/"
        },
        "outputId": "5732cc1e-1e6a-432c-eb34-927657aeea97"
      },
      "execution_count": null,
      "outputs": [
        {
          "output_type": "stream",
          "name": "stdout",
          "text": [
            "digite o numero inicial: 5\n",
            "digite o numero final: 10\n",
            "5\n",
            "6\n",
            "7\n",
            "8\n",
            "9\n",
            "10\n"
          ]
        }
      ]
    },
    {
      "cell_type": "markdown",
      "source": [
        "## 3) SOME TODOS OS NÚMEROS DE 1 A 10"
      ],
      "metadata": {
        "id": "-v9FeRQ-Uvvx"
      }
    },
    {
      "cell_type": "code",
      "source": [
        "soma= 0\n",
        "for i in range(1,11):\n",
        "  soma= soma + i\n",
        "print(\"a soma dos 10 numeros é igual a: \",soma)"
      ],
      "metadata": {
        "colab": {
          "base_uri": "https://localhost:8080/"
        },
        "id": "pwAuxHUu1F9A",
        "outputId": "fa0c8c66-8428-4d64-ba72-4632d25a3078"
      },
      "execution_count": null,
      "outputs": [
        {
          "output_type": "stream",
          "name": "stdout",
          "text": [
            "a soma dos 10 numeros é igual a:  55\n"
          ]
        }
      ]
    },
    {
      "cell_type": "markdown",
      "source": [
        "\n",
        "##  4) USANDO O WHILE PERGUNTE AO USUÁRIO QUAL A MELHOR ESCOLA DE RIBEIRÃO PIRES, ENQUANTO A PESSOA NÃO DIGITAR \"ETEC MCM\", ENQUANTO NÃO DIGITA CERTO ELE VAI INFORMANDO QUE O USUÁRIO ERROU"
      ],
      "metadata": {
        "id": "YGc_izlIU3BA"
      }
    },
    {
      "cell_type": "code",
      "source": [
        "resp  =1\n",
        "while resp == 1:\n",
        "  perg =  input(\"Qual a melhor escola de Ribeirão Pires: \")\n",
        "  if perg ==\"ETEC MCM\":\n",
        "    resp = 0\n",
        "    print(\"Você acertou, parábens!!\")\n",
        "  else:\n",
        "    print(\"Tente novamente\")"
      ],
      "metadata": {
        "id": "BIocrp_ZqBm8",
        "colab": {
          "base_uri": "https://localhost:8080/"
        },
        "outputId": "76283f6c-4452-474b-e1af-d3b2b24df110"
      },
      "execution_count": null,
      "outputs": [
        {
          "output_type": "stream",
          "name": "stdout",
          "text": [
            "Qual a melhor escola de Ribeirão Pires: ETEC RG\n",
            "Tente novamente\n",
            "Qual a melhor escola de Ribeirão Pires: ETEC MAUA\n",
            "Tente novamente\n",
            "Qual a melhor escola de Ribeirão Pires: ETEC MCM\n",
            "Você acertou, parábens!!\n"
          ]
        }
      ]
    },
    {
      "cell_type": "markdown",
      "source": [
        "## **5**) Receba um número, verifique se é diferente de zero, caso seja diferente,continue retornando falso até que ele digite esse valor\n",
        "![image.png](data:image/png;base64,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)\n"
      ],
      "metadata": {
        "id": "ytvAMVUOVecW"
      }
    },
    {
      "cell_type": "code",
      "source": [
        "resp = 1\n",
        "while resp ==1:\n",
        "  num = int(input(\"Digite um número \"))\n",
        "  if num!=0:\n",
        "    print(\"Tente novamente \")\n",
        "  else:\n",
        "    print(\"igual a zero \")\n",
        "    resp =0\n"
      ],
      "metadata": {
        "colab": {
          "base_uri": "https://localhost:8080/"
        },
        "id": "Op5rMuIp1-YJ",
        "outputId": "c2d198f7-0c01-4262-8079-64727593f6a2"
      },
      "execution_count": null,
      "outputs": [
        {
          "output_type": "stream",
          "name": "stdout",
          "text": [
            "Digite um número 66\n",
            "Tente novamente \n",
            "Digite um número 9\n",
            "Tente novamente \n",
            "Digite um número 10\n",
            "Tente novamente \n",
            "Digite um número 0\n",
            "igual a zero \n"
          ]
        }
      ]
    },
    {
      "cell_type": "markdown",
      "source": [
        "## 6) SOMAR NÚMEROS ATÉ QUE O USUÁRIO DIGITE 0"
      ],
      "metadata": {
        "id": "hQlH-crwVojd"
      }
    },
    {
      "cell_type": "code",
      "source": [
        "resp = 1\n",
        "soma = 0\n",
        "while resp == 1:\n",
        "  num= int(input(\"Digite um número: \"))\n",
        "  if num == 0:\n",
        "    print(\"soma completa, a soma total dos números acima é de: \", soma )\n",
        "    resp = 0\n",
        "  else:\n",
        "    soma = soma + num\n"
      ],
      "metadata": {
        "colab": {
          "base_uri": "https://localhost:8080/"
        },
        "id": "_V9Hyy0w1tqq",
        "outputId": "74362b9f-c0ad-4803-860e-f81fb7a75d19"
      },
      "execution_count": null,
      "outputs": [
        {
          "output_type": "stream",
          "name": "stdout",
          "text": [
            "Digite um número: 10\n",
            "Digite um número: 5\n",
            "Digite um número: 4\n",
            "Digite um número: 0\n",
            "soma completa, a soma total dos números acima é de:  19\n"
          ]
        }
      ]
    },
    {
      "cell_type": "markdown",
      "source": [
        "## 7) CRIE UM MENU DE OPÇÕES, COM 3 OPÇÕES,E ELE VAI SOLICITANDO NOVAMENTE A OPÇÕES ATÉ QUE O USUÁRIO ESCOLHA A OPÇÃO SAIR"
      ],
      "metadata": {
        "id": "OFmk77UMVwdM"
      }
    },
    {
      "cell_type": "code",
      "source": [
        "resp = 1\n",
        "while resp == 1:\n",
        "  print(\"1 = opção 1\")\n",
        "  print(\"2 = opção 2\")\n",
        "  print(\"3 = opção 3\")\n",
        "  print(\"4 = sair\")\n",
        "  opcao = int(input(\"Digite o número da sua opção: \"))\n",
        "  if opcao ==1:\n",
        "    print(\"Você escolheu a opção 1\")\n",
        "  elif opcao == 2:\n",
        "    print(\"Você escolheu a opção 2\")\n",
        "  elif opcao == 3:\n",
        "    print(\"Você escolheu a opção 3\")\n",
        "  elif opcao == 4:\n",
        "    print(\"Você escolheu sair\")\n",
        "    resp = 0\n",
        "    print(\"Você saiu do Menu\")\n",
        "  else:\n",
        "    print(\"Nenhuma opção selecionada, tente novamente\")"
      ],
      "metadata": {
        "id": "Ecfys_Wn1t-a",
        "colab": {
          "base_uri": "https://localhost:8080/"
        },
        "outputId": "ae3afd50-e21e-4fa4-c32c-a793141ce88e"
      },
      "execution_count": null,
      "outputs": [
        {
          "output_type": "stream",
          "name": "stdout",
          "text": [
            "1 = opção 1\n",
            "2 = opção 2\n",
            "3 = opção 3\n",
            "4 = sair\n",
            "Digite o número da sua opção: 5\n",
            "Nenhuma opção selecionada, tente novamente\n",
            "1 = opção 1\n",
            "2 = opção 2\n",
            "3 = opção 3\n",
            "4 = sair\n",
            "Digite o número da sua opção: 3\n",
            "Você escolheu a opção 3\n",
            "1 = opção 1\n",
            "2 = opção 2\n",
            "3 = opção 3\n",
            "4 = sair\n",
            "Digite o número da sua opção: 4\n",
            "Você escolheu sair\n",
            "Você saiu do Menu\n"
          ]
        }
      ]
    },
    {
      "cell_type": "markdown",
      "source": [
        "##8) Faça um programa que mostre os n termos da Série a seguir:\n",
        "\n",
        "![image.png](data:image/png;base64,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)"
      ],
      "metadata": {
        "id": "sXDKvW1HWMbr"
      }
    },
    {
      "cell_type": "code",
      "source": [
        "n = 1\n",
        "m = 1\n",
        "\n",
        "for i in range(20):\n",
        "  n = n + 1\n",
        "  m = m + 2\n",
        "  print(n, \"/\", m)"
      ],
      "metadata": {
        "id": "kM9wtCqr1uXJ",
        "colab": {
          "base_uri": "https://localhost:8080/"
        },
        "outputId": "ecdaa37f-8c27-4f36-a893-daf380e47656"
      },
      "execution_count": null,
      "outputs": [
        {
          "output_type": "stream",
          "name": "stdout",
          "text": [
            "2 / 3\n",
            "3 / 5\n",
            "4 / 7\n",
            "5 / 9\n",
            "6 / 11\n",
            "7 / 13\n",
            "8 / 15\n",
            "9 / 17\n",
            "10 / 19\n",
            "11 / 21\n",
            "12 / 23\n",
            "13 / 25\n",
            "14 / 27\n",
            "15 / 29\n",
            "16 / 31\n",
            "17 / 33\n",
            "18 / 35\n",
            "19 / 37\n",
            "20 / 39\n",
            "21 / 41\n"
          ]
        }
      ]
    },
    {
      "cell_type": "markdown",
      "source": [
        "# Condicionais"
      ],
      "metadata": {
        "id": "uufuZ4cE2yYV"
      }
    },
    {
      "cell_type": "markdown",
      "source": [
        "## 1-Faça um programa que solicite ao usuário três valores (lados de um triangulo), verifique se é um triangulo e informe se ele é isóceles, equilatero ou escaleno."
      ],
      "metadata": {
        "id": "1-dX59LN_noU"
      }
    },
    {
      "cell_type": "code",
      "source": [
        "while True:\n",
        "    opcao = input(\"Digite 'sair' para se retiar do programa ou digite Enter para continuar: \").lower()\n",
        "\n",
        "    if opcao == \"sair\":\n",
        "        print(\"Você escolheu sair\")\n",
        "        break  # esse break precisa estar dentro do while e do if\n",
        "\n",
        "    l1 = int(input(\"Digite o primeiro lado do triângulo: \"))\n",
        "    l2 = int(input(\"Digite o segundo lado do triângulo: \"))\n",
        "    l3 = int(input(\"Digite o terceiro lado do triângulo: \"))\n",
        "\n",
        "    if (l1 + l2 > l3) and (l2 + l3 > l1) and (l1 + l3 > l2):\n",
        "        print(\"É um triângulo\")\n",
        "\n",
        "        if l1 == l2 == l3:\n",
        "            print(\"É um triângulo equilátero\")\n",
        "        elif l1 != l2 and l1 != l3 and l2 != l3:\n",
        "            print(\"É um triângulo escaleno\")\n",
        "        else:\n",
        "            print(\"É um triângulo isósceles\")\n",
        "    else:\n",
        "        print(\"Não é um triângulo\")\n"
      ],
      "metadata": {
        "colab": {
          "base_uri": "https://localhost:8080/"
        },
        "id": "zv1_67xT9uaj",
        "outputId": "8974b39d-aef8-4691-9c0a-5ade1ee76326"
      },
      "execution_count": null,
      "outputs": [
        {
          "output_type": "stream",
          "name": "stdout",
          "text": [
            "Digite 'sair' para se retiar do programa ou digite Enter para continuar: 6\n",
            "Digite o primeiro lado do triângulo: 7\n",
            "Digite o segundo lado do triângulo: 8\n",
            "Digite o terceiro lado do triângulo: 8\n",
            "É um triângulo\n",
            "É um triângulo isósceles\n",
            "Digite 'sair' para se retiar do programa ou digite Enter para continuar: 5\n",
            "Digite o primeiro lado do triângulo: 5\n",
            "Digite o segundo lado do triângulo: 5\n",
            "Digite o terceiro lado do triângulo: 5\n",
            "É um triângulo\n",
            "É um triângulo equilátero\n",
            "Digite 'sair' para se retiar do programa ou digite Enter para continuar: sair\n",
            "Você escolheu sair\n"
          ]
        }
      ]
    },
    {
      "cell_type": "markdown",
      "source": [
        "## 2-Peça para o usuário digitar um valor informe se ele é par ou impar\n",
        "\n"
      ],
      "metadata": {
        "id": "Vhza7BnBE13T"
      }
    },
    {
      "cell_type": "code",
      "source": [
        "while True:\n",
        "    valor = input(\"Digite um número para ver se é par ou impar! \\nOu digite 'sair' para sair: \")\n",
        "\n",
        "    if valor == \"sair\":\n",
        "        break\n",
        "\n",
        "    valor = float(valor)  # converte para número só se não for \"sair\"\n",
        "\n",
        "    if valor % 2 != 0:\n",
        "        print(valor, \"é um número ímpar\")\n",
        "    else:\n",
        "        print(valor, \"é um número par\")"
      ],
      "metadata": {
        "colab": {
          "base_uri": "https://localhost:8080/"
        },
        "id": "_k4EXF4INANE",
        "outputId": "1c7a9cd4-bf17-485e-a956-fc6999fc5651"
      },
      "execution_count": null,
      "outputs": [
        {
          "name": "stdout",
          "output_type": "stream",
          "text": [
            "Digite um número para ver se é par ou impar! \n",
            "Ou digite 'sair' para sair: 6\n",
            "6.0 é um número par\n",
            "Digite um número para ver se é par ou impar! \n",
            "Ou digite 'sair' para sair: 8\n",
            "8.0 é um número par\n",
            "Digite um número para ver se é par ou impar! \n",
            "Ou digite 'sair' para sair: 9\n",
            "9.0 é um número ímpar\n",
            "Digite um número para ver se é par ou impar! \n",
            "Ou digite 'sair' para sair: sair\n"
          ]
        }
      ]
    },
    {
      "cell_type": "markdown",
      "source": [
        "## 3-Faça um programa que solicite peso e altura, informe seu IMC. Ao final informe se ele está, abaixo do peso,peso ideal ou acima do peso. fórmula do IMC: (peso/altura^2), siga a tabela abaixo:I"
      ],
      "metadata": {
        "id": "BMpkIjyBFy5u"
      }
    },
    {
      "cell_type": "code",
      "source": [
        "while True:\n",
        "    entrada = input(\"Digite sua altura ou 'sair' para encerrar: \")\n",
        "\n",
        "    if entrada.lower() == \"sair\":\n",
        "        print(\"Você escolheu sair\")\n",
        "        break\n",
        "\n",
        "    alt = float(entrada)\n",
        "    peso = float(input(\"Digite o seu peso: \"))\n",
        "    imc = peso / (alt ** 2)\n",
        "\n",
        "    if 18.5 < imc <= 24.9:\n",
        "        print(\"Seu peso está normal\")\n",
        "    elif 25 <= imc <= 29.9:\n",
        "        print(\"Está com sobrepeso\")\n",
        "    elif 30 <= imc <= 34.9:\n",
        "        print(\"Está com obesidade grau 1\")\n",
        "    elif 35 <= imc <= 39.9:\n",
        "        print(\"Está com obesidade grau 2\")\n",
        "    elif imc >= 40:\n",
        "        print(\"Está com obesidade grau 3\")\n",
        "    else:\n",
        "        print(\"Está abaixo do peso\")"
      ],
      "metadata": {
        "id": "v2sdQZzV3VfH",
        "colab": {
          "base_uri": "https://localhost:8080/"
        },
        "outputId": "ea57388d-4121-40dc-dff6-350d34560020"
      },
      "execution_count": null,
      "outputs": [
        {
          "output_type": "stream",
          "name": "stdout",
          "text": [
            "Digite sua altura ou 'sair' para encerrar: 1.57\n",
            "Digite o seu peso: 47\n",
            "Seu peso está normal\n",
            "Digite sua altura ou 'sair' para encerrar: sair\n",
            "Você escolheu sair\n"
          ]
        }
      ]
    },
    {
      "cell_type": "markdown",
      "source": [
        "## 4. Caixa Eletrônico com Login e Operações Bancárias\n",
        "\n",
        "Crie um programa que simule um caixa eletrônico. O programa deve:\n",
        "\n",
        "Solicitar ao usuário nome de usuário e senha para acessar a conta bancária (use valores fictícios para usuário e senha, por exemplo, \"cliente\" e \"1234\")."
      ],
      "metadata": {
        "id": "houLECEGzKL7"
      }
    },
    {
      "cell_type": "code",
      "source": [
        "\n",
        "while True:\n",
        "  usuarioCerto = input(\"Digite o nome de usuário: \")\n",
        "  senhaCerta = input(\"Digite a senha: \")\n",
        "\n",
        "  if usuarioCerto == \"yas\":\n",
        "    if senhaCerta == \"7401\":\n",
        "      print(\"Você conseguiu entrar, acesso permitido!\")\n",
        "    else:\n",
        "      print(\"Senha incorreto\")\n",
        "  else:\n",
        "    print(\"Usuário Incorreta\")\n",
        "  break\n",
        "\n"
      ],
      "metadata": {
        "id": "9BtQ7dLjO7Q8",
        "colab": {
          "base_uri": "https://localhost:8080/"
        },
        "outputId": "9f40bbfa-7a63-4172-b9b4-2951a3218a8d"
      },
      "execution_count": null,
      "outputs": [
        {
          "output_type": "stream",
          "name": "stdout",
          "text": [
            "Digite o nome de usuário: yas\n",
            "Digite a senha: 7401\n",
            "Você conseguiu entrar, acesso permitido!\n"
          ]
        }
      ]
    },
    {
      "cell_type": "markdown",
      "source": [
        "## 5. Exercício – Simulador de Saque e Depósito com Limite"
      ],
      "metadata": {
        "id": "EzyD4Wh84IBb"
      }
    },
    {
      "cell_type": "code",
      "source": [
        "usuario_certo = \"yas\"\n",
        "senha_certa = \"7401\"\n",
        "\n",
        "saldo = 0\n",
        "limite_saque = 3000\n",
        "\n",
        "usuario = input(\"Digite o nome de usuário: \")\n",
        "senha = input(\"Digite a senha: \")\n",
        "\n",
        "if usuario == usuario_certo and senha == senha_certa:\n",
        "    print(\"Acesso Permitido!! Bem-vindo ao Banco da ETEC MCM\")\n",
        "\n",
        "    while True:\n",
        "        opcao = int(input(\n",
        "            \"\\nO que deseja fazer?\\n\"\n",
        "            \"1 - Ver saldo\\n\"\n",
        "            \"2 - Depositar\\n\"\n",
        "            \"3 - Sacar\\n\"\n",
        "            \"4 - Sair\\n\"\n",
        "            \"Escolha: \"\n",
        "        ))\n",
        "\n",
        "        if opcao == 1:\n",
        "            print(\"Seu saldo é de:\", saldo)\n",
        "\n",
        "        elif opcao == 2:\n",
        "            deposito = float(input(\"Quanto deseja depositar? \"))\n",
        "            saldo += deposito\n",
        "            print(\"Depósito realizado! Seu saldo atual é:\", saldo)\n",
        "\n",
        "        elif opcao == 3:\n",
        "            saque = float(input(\"Quanto deseja sacar? \"))\n",
        "            if saque > limite_saque:\n",
        "                print(\"Saque Negado. Seu limite é de\", limite_saque)\n",
        "            elif saque > saldo:\n",
        "                print(\"Saque Negado. Saldo insuficiente.\")\n",
        "            else:\n",
        "                saldo -= saque\n",
        "                print(\"Saque liberado! Seu saldo agora é de:\", saldo)\n",
        "\n",
        "        elif opcao == 4:\n",
        "            print(\"Saindo... Obrigado por usar o Banco da ETEC MCM!\")\n",
        "            break\n",
        "\n",
        "        else:\n",
        "            print(\"Opção inválida! Tente novamente.\")\n",
        "\n",
        "else:\n",
        "    print(\"Usuário ou senha incorretos!\")\n"
      ],
      "metadata": {
        "colab": {
          "base_uri": "https://localhost:8080/"
        },
        "id": "R_7rRz8RRwRP",
        "outputId": "2685df8b-9f7d-46e9-e0db-b2110ca1d233"
      },
      "execution_count": null,
      "outputs": [
        {
          "output_type": "stream",
          "name": "stdout",
          "text": [
            "Digite o nome de usuário: yas\n",
            "Digite a senha: 7401\n",
            "Acesso Permitido!! Bem-vindo ao Banco da ETEC MCM\n",
            "\n",
            "O que deseja fazer?\n",
            "1 - Ver saldo\n",
            "2 - Depositar\n",
            "3 - Sacar\n",
            "4 - Sair\n",
            "Escolha: 3\n",
            "Quanto deseja sacar? 50\n",
            "Saque Negado. Saldo insuficiente.\n",
            "\n",
            "O que deseja fazer?\n",
            "1 - Ver saldo\n",
            "2 - Depositar\n",
            "3 - Sacar\n",
            "4 - Sair\n",
            "Escolha: 1\n",
            "Seu saldo é de: 0\n",
            "\n",
            "O que deseja fazer?\n",
            "1 - Ver saldo\n",
            "2 - Depositar\n",
            "3 - Sacar\n",
            "4 - Sair\n",
            "Escolha: 2\n",
            "Quanto deseja depositar? 2000\n",
            "Depósito realizado! Seu saldo atual é: 2000.0\n",
            "\n",
            "O que deseja fazer?\n",
            "1 - Ver saldo\n",
            "2 - Depositar\n",
            "3 - Sacar\n",
            "4 - Sair\n",
            "Escolha: 4\n",
            "Saindo... Obrigado por usar o Banco da ETEC MCM!\n"
          ]
        }
      ]
    },
    {
      "cell_type": "markdown",
      "source": [
        "## 6. Faça um programa que solicite altura e idade do usuário, informe se ele pode ou nao competir."
      ],
      "metadata": {
        "id": "FvXKE_srAjh-"
      }
    },
    {
      "cell_type": "code",
      "source": [
        "while True:\n",
        "    entrada = input(\"Digite sua altura ou 'sair': \")\n",
        "    if entrada.lower() == \"sair\":\n",
        "        print(\"saindo do programa\")\n",
        "        break\n",
        "\n",
        "    altura = float(entrada)\n",
        "    idade = float(input(\"Digite a sua idade: \"))\n",
        "\n",
        "    if altura >= 1.75:\n",
        "        if idade >= 18:\n",
        "            print(\"Você está autorizado a competir\")\n",
        "        else:\n",
        "            print(\"Sua idade está abaixo da idade mínima solicitada\")\n",
        "    else:\n",
        "        print(\"Sua altura está abaixo da altura mínima solicitada\")"
      ],
      "metadata": {
        "id": "pK_JyeGfAmqU",
        "colab": {
          "base_uri": "https://localhost:8080/"
        },
        "outputId": "115b33d0-e61b-4493-8154-a0cb323562fd"
      },
      "execution_count": null,
      "outputs": [
        {
          "output_type": "stream",
          "name": "stdout",
          "text": [
            "Digite sua altura ou 'sair': 1.57\n",
            "Digite a sua idade: 15\n",
            "Sua altura está abaixo da altura mínima solicitada\n",
            "Digite sua altura ou 'sair': 1.70\n",
            "Digite a sua idade: 25\n",
            "Sua altura está abaixo da altura mínima solicitada\n",
            "Digite sua altura ou 'sair': 1.90\n",
            "Digite a sua idade: 30\n",
            "Você está autorizado a competir\n",
            "Digite sua altura ou 'sair': sair\n",
            "saindo do programa\n"
          ]
        }
      ]
    },
    {
      "cell_type": "markdown",
      "source": [
        "## 7. Faça um programa que solicite o peso do lutador de Boxe. Informe em que categoria de boxe o usuário está, segundo os critérios abaixos:\n",
        "\n",
        "PESO CATEGORIA\n",
        "![image.png](data:image/png;base64,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)"
      ],
      "metadata": {
        "id": "6jp7p4EEE7Jl"
      }
    },
    {
      "cell_type": "code",
      "source": [
        "while True:\n",
        "  tes = input(\"Digite o seu peso ou 'sair' para encerrar o programa: \")\n",
        "\n",
        "  if tes == \"sair\":\n",
        "    print(\"Programa encerrado.\")\n",
        "    break\n",
        "\n",
        "  peso = float(tes)\n",
        "\n",
        "  if peso>= 46.27 and peso < 47.63:\n",
        "      print (\"Você esta na categoria Palha Ligeiro\")\n",
        "  elif peso >= 47.63 and peso < 48.99:\n",
        "      print(\"Você esta na categoria Palha\")\n",
        "  elif peso >= 48.99 and peso <50.35:\n",
        "      print(\"Você esta na categoria Mosca Ligeiro\")\n",
        "  elif peso >= 50.35 and peso < 51.71:\n",
        "      print(\"Você esta na categoria Mosca\")\n",
        "  elif peso >= 51.71 and peso <53.52:\n",
        "      print(\"Você esta na categoria Super Mosca\")\n",
        "  elif peso >= 53.52 and peso <55.34:\n",
        "      print(\"Você esta na categoria Galo\")\n",
        "  elif peso >=55.34 and peso <57.15:\n",
        "      print(\"Você esta na categoria Super Galo\")\n",
        "  elif peso >= 57.15 and peso <58.97:\n",
        "      print(\"Você esta na categoria Pena\")\n",
        "  elif peso >= 58.97 and peso <61.23:\n",
        "      print(\"Você esta na categoria Super Pena\")\n",
        "  elif peso >= 61.23 and peso <63.5:\n",
        "      print(\"Você esta na categoria Leve\")\n",
        "  elif peso >= 63.5 and peso <66.68:\n",
        "      print(\"Você esta na categoria Super Leve\")\n",
        "  elif peso >= 66.68 and peso <69.85:\n",
        "      print(\"Você esta na categoria Meio-Médio\")\n",
        "  elif peso >= 69.85 and peso <73.03:\n",
        "      print(\"Você esta na categoria Super Meio-Médio\")\n",
        "  elif peso >= 73.03 and peso <76.2:\n",
        "      print(\"Você esta na categoria Médio\")\n",
        "  elif peso >= 76.2 and peso <79.38:\n",
        "      print(\"Você esta na categoria Super Médio\")\n",
        "  elif peso >= 79.38 and peso <90.72:\n",
        "      print(\"Você esta na categoria Meio Pesado\")\n",
        "  elif peso >= 90.72 and peso <101.6:\n",
        "      print(\"Você esta na categoria Cruzador\")\n",
        "  elif peso >= 101.6:\n",
        "      print(\"Você esta na categoria Ilimitado.\")\n",
        "  else:\n",
        "      print(\"Você esta fora do limite de peso das categorias.\")"
      ],
      "metadata": {
        "id": "C1b3fuahFL-r",
        "colab": {
          "base_uri": "https://localhost:8080/"
        },
        "outputId": "9faec67d-b53e-48d6-baee-86ee72108c7d"
      },
      "execution_count": null,
      "outputs": [
        {
          "output_type": "stream",
          "name": "stdout",
          "text": [
            "Digite o seu peso ou 'sair' para encerrar o programa: 1.57\n",
            "Você esta fora do limite de peso das categorias.\n",
            "Digite o seu peso ou 'sair' para encerrar o programa: 47\n",
            "Você esta na categoria Palha Ligeiro\n",
            "Digite o seu peso ou 'sair' para encerrar o programa: 100\n",
            "Você esta na categoria Cruzador\n",
            "Digite o seu peso ou 'sair' para encerrar o programa: sair\n",
            "Programa encerrado.\n"
          ]
        }
      ]
    },
    {
      "cell_type": "markdown",
      "source": [
        "##8.Faça um programa que solicite\n",
        "\n",
        "O salário do usuário;\n",
        "\n",
        "Informe quanto esse usuário irá pagar de imposto de Renda seguindo a tabela abaixo:\n",
        "\n",
        "![image.png](data:image/png;base64,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)\n",
        "\n"
      ],
      "metadata": {
        "id": "p6hk2nBieTR9"
      }
    },
    {
      "cell_type": "code",
      "source": [
        "while True:\n",
        "  salario = float(input(\"Informe sua renda ou digite 0 para encerrar o programa: \"))\n",
        "  if salario == 0:\n",
        "    break\n",
        "\n",
        "  if salario <=1903.38:\n",
        "    print(\"Isento de taxa.\")\n",
        "\n",
        "  elif salario >=1903.99 and salario<=2826.65:\n",
        "    taxa = (salario/100)*7.5\n",
        "    print(f\"Você terá que pagar 7,5% de taxa sobre o valor que recebe, então terá que pagar R${taxa}\")\n",
        "\n",
        "  elif salario>=2826.66 and salario<=3751.05:\n",
        "    taxa = (salario/100)*15\n",
        "    print(f\"Você terá que pagar 15% de taxa sobre o valor que recebe, então terá que pagar R${taxa}\")\n",
        "\n",
        "  elif salario>=3751.06 and salario<=4664.68:\n",
        "    taxa=(salario/100)*22.5\n",
        "    print(f\"Você terá que pagar 22,5% de taxa sobre o valor que recebe, então terá que pagar R${taxa}\")\n",
        "\n",
        "  else:\n",
        "    taxa = (salario/100)*27.5\n",
        "    print(f\"Você terá que pagar 27,5% de taxa sobre o valor que recebe, então tera que pagar R${taxa}\")\n",
        "    break"
      ],
      "metadata": {
        "colab": {
          "base_uri": "https://localhost:8080/"
        },
        "id": "MYfQoDmkeb0n",
        "outputId": "e86558aa-6100-46ca-d14b-5a0af9f1a753"
      },
      "execution_count": null,
      "outputs": [
        {
          "output_type": "stream",
          "name": "stdout",
          "text": [
            "Informe sua renda ou digite 0 para encerrar o programa: 5000\n",
            "Você terá que pagar 27,5% de taxa sobre o valor que recebe, então tera que pagar R$1375.0\n"
          ]
        }
      ]
    },
    {
      "cell_type": "markdown",
      "source": [
        "## 9.Uma empresa dará aumento para seus funcionários, faça um programa que faça esses cálculos, solicite o salário do funcionário e informe o aumento que o mesmo terá, seguindo os seguintes critérios:\n",
        "\n",
        "![image.png](data:image/png;base64,iVBORw0KGgoAAAANSUhEUgAAAd4AAABSCAIAAAB1+SKDAAARFElEQVR4Ae2dbXriOgyFZ11d0Kynq+lm7mLmPpJ9ZEmWQ9JQCPTwJ44s6+O1LKCl5c8/PkiABEiABC5G4M/F4mE4JEACJEAC/9iaWQQkQAIkcDkCbM2X2xIGRAIkQAJszawBEiABErgcAbbmy20JAyIBEiABtmbWAAmQAAlcjgBb8+W2hAGRAAmQAFsza4AESIAELkeArflyW8KASIAESICtmTVAAiRAApcjwNZ8uS1hQCRAAiTA1swaIAESIIHLEWBrvtyWMCASIAESYGtmDZAACZDA5QiwNV9uSxgQCZAACWy05q+/fz4+/yOiBxP4+vvn79eDfdIdCZDAxQisWvN/nx+nGrOs74/zjaYZO2/nXuyLeFy+krZ/Tvv6CxJe+u/fSq6mrpPsvaDRzm8hIAUcS/1I5uNYpJcoY8KM26nDcTnn+kiYP69bt+a7ZSg4ge37ybQdOG/n+xGMlZLRx+dnzktCrAJs6vreQ7OAzkqujoLmcM0RCfwAAak2a3b3sH/CoCwtjkh7HdODHKcD7+tx9avvkchzbVSt+QTanMx9WnO2evIeO/kNM/hpw5TXoiqiq9GPV3KEdMctgEleSaAkcPdau5fBcVzkHaZ79sAEpO26OIJlzq8gLFrziqwAwQPPbJKik3uxZi9zWVjqd66Ys30QeX8kO25mcrEmrw7M+lrvxsyUV48/LQtqPWBJYyUfy0X5fJjDHkeXJ6Cl2WrdSj2WFVqR1M/fr6b/96vV1SiWYWfImh2b6RNtJc5Xu9oaP2nxbEE062LIzPj+4IRbhjAnBtsSGVkMPTCco+6tZYil73AtWrMVgM9PMq/I/vf5YcwGSlsZmIp0pd95Nxezs2xH1eE43JjreaB6MQmxmx6wOq93khyP5DXsmA9D2UOUSy+pkemfdrqSX6g6pxy+L4HFuYhVYOWkZfvx+Z+WVa+fVlC+MGXcS7Ep9hsnF6Ay12eMr+qjIsONqcSB9+sNennyGw3Md07dEu+hyAXR6cJJMJt7Ocncmj3YkY4yyRs4ptvICNqE3xkT2sDpq32jPS1LgrwTadocjIHaj9s5Jo+PthzK3Hi2//j8kq7d0CFuTbyQu0BE9RZvp87hGxEY5wIF05IzOcoPRYJreuNvYm2/drqWWoYwuk3v8kxrDIYjkbk7i1h13cRYW49EdbxSvnFeRHlkVxt8Pene1tyJt1eGvmU0hvaK0U/1H3ZEaAv9G3RRix1wuk2VV+xC9xpDiT+MQQqTTmEu/kRiUrDwZIC2LFqYWMmdJYk4wXSzHL4bgfpcxGNhjQ51hCLxV9Rxv7YaWthRiFjsiMI+RHE5pOMa54dBGaXHrprW8+E0N89Lc26udp3fEfp1RwdaM5JQCB2AMBsIrXSgar0IgqV+4wu16SrrHPN0O7mZ1qtAAx/R1kr7pDmAsGoAGiMLQLNYyZ0ZUXEZuxkO34/A6lzEKrDzhfKTaSnofJ0ALeyoHha7RbAPUb6HHNdoYtyNETR3XGWRayqyQkXjNMgt7voYaHDd4efqKnNrtn1ehu42SoZodjK2m77Yqapkqe9pF44rO7Y73mixNohENwcZFPbd5HjcKi0jMNEnjX6jE6goF3OQw5AIzQiEvL4rAVcOWjLYe1cbOuxylB+qBNfcwwyXKKD09M2bry3vvK8QkS0o5s2w0+8mdWkRf15S32uWPrjZgar0ZCwvtGRca+svJS1ac7m/DXh4k6R5Kqcm1k/7dqpOHNe4Ca+vPkftGEKnHu34X/yiDmzVjcGJ7VvG4/nEPNySMLGSG9aiQG8kxumXJeCqIZyLdhi19vUzGa0opNqkmGSVSHCV9J2l8SpEhKP6pgPgqteqrpJt4DW3H5//Bfs2oUmY+dqUc9rPu4Xt7CATYPBp33BQu72ktGrNre29T46XBL8VlFQh8W8R4hwJvDuBujVPP915dwxXyo+N+Uq7wVhI4DkEVq25fZyAL90evyv4g8PHe6ZHEiCByxDYaM2XiZGBkAAJkMAvI8DW/Ms2nOmSAAm8AgG25lfYJcZIAiTwywiwNf+yDWe6JEACr0BgozWHTye+Qi6vFePDft3HffzRwnjYPv5oFjR+OQKr1nz2E1zFB8S/n3szhg+af9/O0ZWFX5eXfCbef4RlfFzeS/3fxkS5mvrppMRJdHsMgsv3fKjN2Hk7B1Jw8Y8/b2vrj+7XSl9dPDSpA/k/Q1WAnKm5/lczAWnYRzt3JoXuadfP4LXwWbfmu2Xo/15nEcEOcdsB4N+x4A4qEvnLf5sJ99FVQqjFtr37v31mpa/2tT4fW54ur7PDuxUJAjll8Mi5w/tBXMXxy24D6Nm1as2n0JplHYTjEKcefHcsErxLnVYtdh/F0ZJq5SXnfiVH8ndEDZPjekfjE4fh5XmjCPdmHB5HXHp7v1b6cOptQ/Yq17vHfsLgsXOHXWlXcfs+jfnfv6I1r8hKAePhETi5F2tlVke61O9cMWfvh0TeH8m4m9m3I2rbDO87OFP8Pc60Oqj1wCTclXwsF+WdMWn8ymLfgpXpYSe+xXfyhDol0qMv9TsfzFmkHYqEn4y7mTw1ME0jdWDWp+lC4HHIagujB7C1Xyv94cZbH9JDIzDziMSsBTqe6LWDNf33/JaTAFwoRhDgCmT9WwUGKSi88rVozXguCmmtSm/x7QxYWyE2gDKJ0yX27We3s7NsR9VhKNzAc3ltXrCuVInC7Df+8xgEP85MD0Uu4sVQJrlzAlUnqoY+EM+t0u0yc+51xJ2F7SZeaR8VZkxCkKSH7bLNjSWGJu3LUXkE6Jqom9g3XPCP1WHhaUrv/C0nkqBtoBDUjcIOj40E3MgJ0te+zq1ZsqxzL8QxeSsdE0+IbUYGTl/R22ZMy5Ig70SaDk7yjXqaE8xq7X7LsMx1JJpI8a0lK7lzVuN2Cjp0pHqd3sygNrwr++hNAtji8NB91Pjjqc2sVve6tJXYal+Oyp2rGrdTODAc/MWqnYpxXrAdcIrr0FBvJk4vOod9URtaFqKIhttb259NOIM3PZnLOECCUdru3Lnr0zncatXryfa25vDE5duCYHEPP1Ue6YX+Dbppq9JtqrztXegB+MpbL8iOoqbNygBtWlQwsZI7MxJOguZm+zBBi85mdZUsDQ9j3u+Q6m76KZfQ8LXQF/EGWoDpdtLt7X3sXicPDbSrw/Siq/kzd0195IiJo/KBo2pwbvb2sOYZcVqjQ7wyLVn4a4CAolzY0bCw2MUI+xDF5ZCOa5wfBmWUHgP6WD6PcgBRI8425+Zqqo249nXuDrRmJKUQOgCBNGBb6UDVehQES/3GF2rTNW5GaXbXloidrdaRHSe/cXqAGCPVsGRWcmfHdJ1sGorSwDxNl4Kba3xwy33ppjOHpf6NdJKddDvta5mYNqLDOMSU1adPvb/o0PI5Knfx3UjcaVbDFc9o1eIHN5nOrbmsk4UdDQVGXFywD1G+hxzXaGLcjRE0d143HYpVO8Ry8/fLttYQ7XR0YbW5NdtT8DJqx02GqAUZ201f7FRVstTvhFc+Kzu2O97oykB/5Zfj21C3eBc9XwsEuWtT6TehclxsQQ7HIjQjEM7Xcu2sFiQ3TTuoLkxNJcfkVNXHUl+cLoDJwsqO6XujIZPiRnRzkIWaFwXz7iawPSqHg5uwoVhfndvA38Wmw56yqAtleMW1PWsV/EVhiFP/8s57eCKyBcV8zsKp6FJsjQY9HOdly3sxslimJnFkLC+khOvS8utMFK253N8GvL85AZjwU472KWDfnsJbmXkifJuDMY7odB8qO+2Uz/HE5e5uY7OdFoZLv55DrB23JEys5OpKJh1NuK+uzs7OrqQrQiyBWmhtzrrfFyeOrN2E19faSS4lGace7YSIdpIAnR3HMPiNcbmpMHFUrtHIooPRI4t2dV4DT0fuN3zLicMQ66Q8d/5MY+WpXYh78uS7qjW34/I+OT4Z8dr96QO9Nt1mpHa5j7conZ7/8X08HSENvB6BujX3lznh1cTr5XbxiB9yoPXFBPfxJ0vhIfv4kwnQ9iUJrFqz/6XJJQN/+aDwh08/nsiO9/0/HsMbO3jYPr4xQ6ZWENhozYU2RSRAAiRAAg8gwNb8AMh0QQIkQALHCLA1H+NFbRIgARJ4AAG25gdApgsSIAESOEZgozXz10fHUB7U5q+PDgKjOgn8JgKr1nz2E0H6oa32qfHzH91qxs7bObCxLv78d0nj0+/xI8NH5erioUkdyJ+qJPBdAlLY8WgctFSf9+J82SnFMTrt+mCkP6let+a7ZSg4ge37adRb9X17x1aGHOSml51GheSOyjWEYOFYUNQmgTsRuNthRzynDLaD9Jn7Rnm+8L4eV3GMA4lgXvdateZTaCMKIXoNWN+PxONAEbQsR70clYOStw0ZryTwSAJ3r8ETBvFTvnxa6/MFabuK22v0mvvsXtGaV2QFFx4egZN7scaXEYuw1O9cMWfvh0TeH8m4m9m3I2rbDO/G53GEdHoAEtZR+XDurQ8pR7+QAGrf/WOh9C9J0Iqk3vQ/aqhqq8NR2MPOkIkOVoz/wNIrGAdMr7bGT6ajV2/O8Ds8iOaQm+3agJPKGuc03PbAcO4kan7Lyad+zaUjqH/QbQgFYKIfmMrCxbc54L+4tOUCPxrKdnR74DjchOjyTdtVrMuz6V58xmqVKhsR/mnf/dNL5JDceZKQdgbkVnH4ZgQW5yJWh5WfluYv+pYTS7wf9YjF/1vXNyqL+VWzpB37oqSrTGZxJGEETZxbqk3owOl35n1+WpYEeWvSdPSS7nZl4te40DTgA99mstJ35sX6La5OncNfQGCci1joJke9o3hwHa8dlJKJV6++k5ahjW7Tu0LTGoPhSGTuziJWXTcx1pYjJNgnb5yjHG5p8uWEe1szunN6Gdl7dn95Gd/ICIuEOFgJpm7QTXbSbaq87U0QT/4947a2zpo7Gfh3Bpg4Knc+95erW8Th2xHoZYmT1J+t47GwRoe6Q/H4Kyz0azO0sKMUsdghhX2I4nJIxzXOD4MySo99L0NSAKvzpRE05+bqbd6CHmjN2AmF0AEIswHbSgeqU2te6je+ti4Piq3yW5Cm8+pxL4rHf35gefnU+9OMhnFUPgI69KzilnH4VgRW5yIeC6tD1LtMy/HL14nNwo7qYbFbBPsQ5XvIcY0mxt0YQXPnNTkUO+7Yyi2Ofx8DDa47/VxZbW7Nts/LsB03GaI1y9hu+mKnqpKlvqddOK7s2O54o8VaiEQtx4e5rWsw725CvRyVw6EYAUDIeP11BFz56MsZ1ISrMR12uahLb0L14KoCOxeOoiigmel7WV9z3nlfIyJbUMw70zp0Krq0iD8v2bwXIyPe/va7x6wg+qTlhZaM66b115gsWnO5vw14eJOkCSqnJvbfzuDEcY2b8PrqM+xFw+fUox3/i1/UwSbxabM3tYPfGJebChNH5YbPn5LNoDj5vgRc9YRz0Q6j1v6v/paT8JNTnDt/pgHwfU5T1Zpb23ufHC97oKWciPmy28PASOCJBOrW3J+j8Oz0xPje2DUb8xtvLlMjgZMEVq25/XiHL+lO4t1Yjj982lDhFAmQwG8lsNGafysS5k0CJEACzybA1vzsHaB/EiABEpgIsDVPSCggARIggWcTYGt+9g7QPwmQAAlMBNiaJyQUkAAJkMCzCbA1P3sH6J8ESIAEJgJszRMSCkiABEjg2QTYmp+9A/RPAiRAAhMBtuYJCQUkQAIk8GwCbM3P3gH6JwESIIGJAFvzhIQCEiABEng2AbbmZ+8A/ZMACZDARICteUJCAQmQAAk8mwBb87N3gP5JgARIYCLA1jwhoYAESIAEnk2ArfnZO0D/JEACJDAR+B+pcN28aj7X9AAAAABJRU5ErkJggg==)"
      ],
      "metadata": {
        "id": "u2Ac_4e5ouKn"
      }
    },
    {
      "cell_type": "code",
      "source": [
        "while True:\n",
        "  salario_funcionario = float(input(\"Informe salario do funcionario R$: \"))\n",
        "\n",
        "  if salario_funcionario>1500 and salario_funcionario<=3000:\n",
        "    aumento = (salario_funcionario/100)*15+salario_funcionario\n",
        "    print(f\"O funcionario receberá um aumento de 15%, seu novo salario será de R${aumento}\")\n",
        "\n",
        "  elif salario_funcionario > 3000:\n",
        "    aumento = (salario_funcionario/100)*10+salario_funcionario\n",
        "    print(f\"O funcionario receberá um aumento de 10%, seu novo salario será de R${aumento}\")\n",
        "\n",
        "  else:\n",
        "    aumento = (salario_funcionario/100)*20+salario_funcionario\n",
        "    print(f\"O funcionario receberá um aumento de 20%, seu novo salario será de R${aumento}\")\n",
        "\n",
        "  sair  = input(\"Deseja calcular outro salário? (sim/não)\").lower()\n",
        "  if sair == \"não\":\n",
        "    print(\"Progama encerrado, volte mais vezes!!\")\n",
        "    break"
      ],
      "metadata": {
        "colab": {
          "base_uri": "https://localhost:8080/"
        },
        "id": "VVNSuz38o5sX",
        "outputId": "ba4f76e7-7ed7-4261-af37-54da28f3c14f"
      },
      "execution_count": null,
      "outputs": [
        {
          "output_type": "stream",
          "name": "stdout",
          "text": [
            "Informe salario do funcionario R$: 3500\n",
            "O funcionario receberá um aumento de 10%, seu novo salario será de R$3850.0\n",
            "Deseja calcular outro salário? (sim/não)não\n",
            "Progama encerrado, volte mais vezes!!\n"
          ]
        }
      ]
    },
    {
      "cell_type": "markdown",
      "source": [
        "## 10.Simulador de frete inteligente\n",
        "\n",
        "Peça o peso do pacote (em kg) e a distância (em km) de sua cidade até o local de entrega.Calcule o frete com base em regras:\n",
        "\n",
        "Até 2kg → R$5 por 100km\n",
        "\n",
        "De 2kg a 5kg → R$8 por 100km\n",
        "\n",
        "Acima de 5kg → R$10 por 100km\n",
        "\n",
        "Exemplo de saída:\n",
        "\n",
        "\"Para um pacote de 3kg viajando 350km, o valor do frete será R$28,00\""
      ],
      "metadata": {
        "id": "_8VHv7E9yyu5"
      }
    },
    {
      "cell_type": "code",
      "source": [
        "while True:\n",
        "  peso = float(input(\"Digite o peso do poduto (em kg): \"))\n",
        "  distancia = float(input(\"Digite a distância (em km): \"))\n",
        "\n",
        "  if peso <= 2:\n",
        "      valorkm = 5\n",
        "  elif peso <= 5:\n",
        "      valorkm = 8\n",
        "  else:\n",
        "      valorkm = 10\n",
        "\n",
        "  frete = (distancia / 100) * valorkm\n",
        "  print(f\"Para um pacote de {peso}kg viajando {distancia}km, o valor do frete será R${frete}\")\n",
        "\n",
        "\n",
        "  sair = input(\"Deseja calcular mais um produto? (sim/não) \").lower()\n",
        "  if sair == 'não':\n",
        "    print(\"Você escolheu sair do progrma, volte mais vezes!!\")\n",
        "    break"
      ],
      "metadata": {
        "colab": {
          "base_uri": "https://localhost:8080/"
        },
        "id": "1rXUhhMBy9dM",
        "outputId": "5bf950e9-bdb3-46b5-9366-7b8b1c66826a"
      },
      "execution_count": null,
      "outputs": [
        {
          "output_type": "stream",
          "name": "stdout",
          "text": [
            "Digite o peso do poduto (em kg): 10\n",
            "Digite a distância (em km): 2\n",
            "Para um pacote de 10.0kg viajando 2.0km, o valor do frete será R$0.2\n",
            "Deseja calcular mais um produto? (sim/não) não\n",
            "Você escolheu sair do progrma, volte mais vezes!!\n"
          ]
        }
      ]
    }
  ]
}